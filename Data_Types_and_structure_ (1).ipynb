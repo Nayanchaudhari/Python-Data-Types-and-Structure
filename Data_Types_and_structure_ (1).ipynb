{
  "nbformat": 4,
  "nbformat_minor": 0,
  "metadata": {
    "colab": {
      "provenance": []
    },
    "kernelspec": {
      "name": "python3",
      "display_name": "Python 3"
    },
    "language_info": {
      "name": "python"
    }
  },
  "cells": [
    {
      "cell_type": "markdown",
      "source": [
        "#Data Types and Structure Questions\n",
        "1.What are data structures, and why are they important?\n",
        " - Data structures are ways to store and organize data in a computer so it can be used efficiently.\n",
        " - They are important because they help in:-\n",
        "- fast access and modification of data\n",
        "- Efficient memory use\n",
        "- Better performance in algorithms\n",
        "\n",
        "2.Explain the difference between mutable and immutable data types with examples.\n",
        " - Mutable data types can be changed after creation (e.g., list, dict).\n",
        " - Immutable data types cannot be changed once created (e.g., int, str, tuple).\n",
        "\n",
        "3.What are the main differences between lists and tuples in Python?\n",
        " - List is mutable can add, remove, or change items.\n",
        " - Tuple is immutable once created, cannot change its content.\n",
        "\n",
        " 4.Describe how dictionaries store data.\n",
        "  - Dictionaries store data as key-value pairs.\n",
        "\n",
        "\n",
        " 5.Why might you use a set instead of a list in Python?\n",
        "  - Sets automatically remove duplicates\n",
        "  - Supports union, intersection, difference, etc.\n",
        "  - set is faster than in a list checking item is exists\n",
        "\n",
        "6.What is a string in Python, and how is it different from a list?\n",
        " - A string in Python is a sequence of characters and it is immutable.\n",
        " - A list is a sequence of items and it is mutable.\n",
        "\n",
        " 7.How do tuples ensure data integrity in Python?\n",
        " - This ensures data integrity by protecting the data from accidental modification.\n",
        "\n",
        "8.What is a hash table, and how does it relate to dictionaries in Python?\n",
        " - A hash table is a data structure that stores data in key-value pairs\n",
        " - Dictionaries use hash tables internally to store and quickly access key-value pairs.\n",
        "\n",
        " 9.Can lists contain different data types in Python?\n",
        " - Yes, Lists Can Contain Different Data Types in Python.\n",
        "\n",
        " 10.Explain why strings are immutable in Python.\n",
        " - Strings are immutable to make them safe, efficient, and reliable.\n",
        "\n",
        " 11.What advantages do dictionaries offer over lists for certain tasks?\n",
        " - Key-Based Access\n",
        " - Better Organization\n",
        " - No Need to Remember Index\n",
        "\n",
        "12.Describe a scenario where using a tuple would be preferable over a list.\n",
        " - constant data that should not change.\n",
        " - Tuples are also faster and use less memory than lists\n",
        "\n",
        "13.How do sets handle duplicate values in Python?\n",
        " - Sets automatically remove duplicate values.\n",
        " - Sets ignore duplicates and keep only unique values.\n",
        "\n",
        "14.How does the “in” keyword work differently for lists and dictionaries?\n",
        " - in checks values in lists.\n",
        " - in checks keys in dictionaries\n",
        "\n",
        "15.Can you modify the elements of a tuple? Explain why or why not.\n",
        " - NO,Tuples are immutable, meaning once they are created, their elements cannot be changed, added, or removed.\n",
        "\n",
        "16.What is a nested dictionary, and give an example of its use case?\n",
        " - A nested dictionary is a dictionary inside another dictionary.\n",
        " - use case student information and inside dictionary each subject marks of student.\n",
        "\n",
        "17.Describe the time complexity of accessing elements in a dictionary.\n",
        " - Average Case: O(1) (Constant time)\n",
        "  -  Fast access using the key due to hash table implementation.\n",
        " - Worst Case: O(n) (Rare)\n",
        "  - Rare case when many keys collide\n",
        "\n",
        "18.In what situations are lists preferred over dictionaries?\n",
        " - Ordered Data Without Labels\n",
        " - Duplicates Allowed\n",
        " - Index-Based Access\n",
        "\n",
        "19.Why are dictionaries considered unordered, and how does that affect data retrieval?\n",
        " - Dictionaries are considered unordered because they store data using keys, not positions.\n",
        " - Dictionaries use keys, not positions, to retrieve data.\n",
        " - must know the key to access a value — the order of items doesn’t affect retrieval.\n",
        "\n",
        "20.Explain the difference between a list and a dictionary in terms of data retrieval.\n",
        " - List retrieves data by position.\n",
        " - Dictionary retrieves data by key.\n",
        "\n",
        "\n",
        "\n",
        "\n",
        "\n",
        "\n",
        "\n",
        "\n",
        "\n",
        "\n",
        "\n",
        "\n",
        "\n",
        "\n",
        "  \n",
        "\n"
      ],
      "metadata": {
        "id": "xkG-G94kGbPQ"
      }
    },
    {
      "cell_type": "code",
      "source": [
        "#Practical Questions"
      ],
      "metadata": {
        "id": "g2FNVkLeg-xa"
      },
      "execution_count": null,
      "outputs": []
    },
    {
      "cell_type": "code",
      "source": [
        "#1.Write a code to create a string with your name and print it.\n",
        "name = \"Nayan\"\n",
        "print(name)"
      ],
      "metadata": {
        "id": "xoOOvhSYhJtl",
        "colab": {
          "base_uri": "https://localhost:8080/"
        },
        "outputId": "4de753c6-acab-46df-b168-4268d8878e44"
      },
      "execution_count": null,
      "outputs": [
        {
          "output_type": "stream",
          "name": "stdout",
          "text": [
            "Nayan\n"
          ]
        }
      ]
    },
    {
      "cell_type": "code",
      "source": [
        "#2.Write a code to find the length of the string \"Hello World\".\n",
        "name = \"Hello World\"\n",
        "print(len(name))"
      ],
      "metadata": {
        "colab": {
          "base_uri": "https://localhost:8080/"
        },
        "id": "docVK5B_JODo",
        "outputId": "3b7e71af-62d4-4620-cab8-378f59632da2"
      },
      "execution_count": null,
      "outputs": [
        {
          "output_type": "stream",
          "name": "stdout",
          "text": [
            "11\n"
          ]
        }
      ]
    },
    {
      "cell_type": "code",
      "source": [
        "#3.Write a code to slice the first 3 characters from the string \"Python Programming\".\n",
        "language_name = \"Python Programming\"\n",
        "language_name[0:3]"
      ],
      "metadata": {
        "colab": {
          "base_uri": "https://localhost:8080/",
          "height": 36
        },
        "id": "lpJLQLAOKOxt",
        "outputId": "04e6b9ff-6c37-4429-f309-e5c235cf0e95"
      },
      "execution_count": null,
      "outputs": [
        {
          "output_type": "execute_result",
          "data": {
            "text/plain": [
              "'Pyt'"
            ],
            "application/vnd.google.colaboratory.intrinsic+json": {
              "type": "string"
            }
          },
          "metadata": {},
          "execution_count": 5
        }
      ]
    },
    {
      "cell_type": "code",
      "source": [
        "#4.Write a code to convert the string \"hello\" to uppercase.\n",
        "text = \"hello\"\n",
        "text.upper()"
      ],
      "metadata": {
        "colab": {
          "base_uri": "https://localhost:8080/",
          "height": 36
        },
        "id": "hGecQ00rKu2f",
        "outputId": "7de1121f-f978-40f5-c7b1-b9261e10f7db"
      },
      "execution_count": null,
      "outputs": [
        {
          "output_type": "execute_result",
          "data": {
            "text/plain": [
              "'HELLO'"
            ],
            "application/vnd.google.colaboratory.intrinsic+json": {
              "type": "string"
            }
          },
          "metadata": {},
          "execution_count": 6
        }
      ]
    },
    {
      "cell_type": "code",
      "source": [
        "#5.Write a code to replace the word \"apple\" with \"orange\" in the string \"I like apple\".\n",
        "str_name = \"I like apple\"\n",
        "str_name.replace(\"apple\",\"orange\")"
      ],
      "metadata": {
        "colab": {
          "base_uri": "https://localhost:8080/",
          "height": 36
        },
        "id": "ryBp_v3QLWjX",
        "outputId": "b36ae75a-d76a-4ebf-be4f-c102228ff7c4"
      },
      "execution_count": null,
      "outputs": [
        {
          "output_type": "execute_result",
          "data": {
            "text/plain": [
              "'I like orange'"
            ],
            "application/vnd.google.colaboratory.intrinsic+json": {
              "type": "string"
            }
          },
          "metadata": {},
          "execution_count": 7
        }
      ]
    },
    {
      "cell_type": "code",
      "source": [
        "#6.Write a code to create a list with numbers 1 to 5 and print it.\n",
        "list_name = [1,2,3,4,5]\n",
        "print(list_name)"
      ],
      "metadata": {
        "colab": {
          "base_uri": "https://localhost:8080/"
        },
        "id": "7qhL9Q6KMCNN",
        "outputId": "32363302-c050-4f63-9e7f-f394f27f3467"
      },
      "execution_count": null,
      "outputs": [
        {
          "output_type": "stream",
          "name": "stdout",
          "text": [
            "[1, 2, 3, 4, 5]\n"
          ]
        }
      ]
    },
    {
      "cell_type": "code",
      "source": [
        "#7.Write a code to append the number 10 to the list [1, 2, 3, 4].\n",
        "list_app = [1,2,3,4]\n",
        "list_app.append(10)\n",
        "list_app"
      ],
      "metadata": {
        "colab": {
          "base_uri": "https://localhost:8080/"
        },
        "id": "SfrrFkXGMnJl",
        "outputId": "4ade4c86-fad1-48a4-9a7c-fe38172d060f"
      },
      "execution_count": null,
      "outputs": [
        {
          "output_type": "execute_result",
          "data": {
            "text/plain": [
              "[1, 2, 3, 4, 10]"
            ]
          },
          "metadata": {},
          "execution_count": 10
        }
      ]
    },
    {
      "cell_type": "code",
      "source": [
        "#8.Write a code to remove the number 3 from the list [1, 2, 3, 4, 5]\n",
        "list_remove = [1, 2, 3, 4, 5]\n",
        "list_remove.remove(3)\n",
        "list_remove"
      ],
      "metadata": {
        "colab": {
          "base_uri": "https://localhost:8080/"
        },
        "id": "81n6lU32NL3H",
        "outputId": "f57b6185-080c-4b74-d701-339bedd76537"
      },
      "execution_count": null,
      "outputs": [
        {
          "output_type": "execute_result",
          "data": {
            "text/plain": [
              "[1, 2, 4, 5]"
            ]
          },
          "metadata": {},
          "execution_count": 11
        }
      ]
    },
    {
      "cell_type": "code",
      "source": [
        "#9.Write a code to access the second element in the list ['a', 'b', 'c', 'd'].\n",
        "list_name = ['a', 'b', 'c', 'd']\n",
        "list_name[1]"
      ],
      "metadata": {
        "colab": {
          "base_uri": "https://localhost:8080/",
          "height": 36
        },
        "id": "Fyl6cWzYNxWu",
        "outputId": "3eebae85-c36d-424c-c6cc-3c0e8bc56721"
      },
      "execution_count": null,
      "outputs": [
        {
          "output_type": "execute_result",
          "data": {
            "text/plain": [
              "'b'"
            ],
            "application/vnd.google.colaboratory.intrinsic+json": {
              "type": "string"
            }
          },
          "metadata": {},
          "execution_count": 12
        }
      ]
    },
    {
      "cell_type": "code",
      "source": [
        "#10.Write a code to reverse the list [10, 20, 30, 40, 50].\n",
        "list_reverse = [10, 20, 30, 40, 50]\n",
        "list_reverse[::-1]"
      ],
      "metadata": {
        "colab": {
          "base_uri": "https://localhost:8080/"
        },
        "id": "wupNnjUPOk0u",
        "outputId": "8b1adda6-2fc8-4deb-ba34-7219b9f457b1"
      },
      "execution_count": null,
      "outputs": [
        {
          "output_type": "execute_result",
          "data": {
            "text/plain": [
              "[50, 40, 30, 20, 10]"
            ]
          },
          "metadata": {},
          "execution_count": 13
        }
      ]
    },
    {
      "cell_type": "code",
      "source": [
        "#11. Write a code to create a tuple with the elements 100, 200, 300 and print it.\n",
        "tup = (100,200,300)\n",
        "print(tup)"
      ],
      "metadata": {
        "colab": {
          "base_uri": "https://localhost:8080/"
        },
        "id": "YNLBg569PUYR",
        "outputId": "4d537c6e-5399-42cd-bdbf-8cc1c40b3c17"
      },
      "execution_count": 1,
      "outputs": [
        {
          "output_type": "stream",
          "name": "stdout",
          "text": [
            "(100, 200, 300)\n"
          ]
        }
      ]
    },
    {
      "cell_type": "code",
      "source": [
        "#12.Write a code to access the second-to-last element of the tuple ('red', 'green', 'blue', 'yellow').\n",
        "tuple_name = ('red', 'green', 'blue', 'yellow')\n",
        "tuple_name[1:]"
      ],
      "metadata": {
        "colab": {
          "base_uri": "https://localhost:8080/"
        },
        "id": "FrNI7pwiPiPC",
        "outputId": "ffee4f89-a276-4b7f-e013-3e5e1f2afe60"
      },
      "execution_count": 2,
      "outputs": [
        {
          "output_type": "execute_result",
          "data": {
            "text/plain": [
              "('green', 'blue', 'yellow')"
            ]
          },
          "metadata": {},
          "execution_count": 2
        }
      ]
    },
    {
      "cell_type": "code",
      "source": [
        "#13.Write a code to find the minimum number in the tuple (10, 20, 5, 15).\n",
        "min_number = (10, 20, 5, 15)\n",
        "min(min_number)"
      ],
      "metadata": {
        "colab": {
          "base_uri": "https://localhost:8080/"
        },
        "id": "KxCju_0RP07j",
        "outputId": "652e77bf-c690-4782-e863-76f4e4d33c4a"
      },
      "execution_count": 3,
      "outputs": [
        {
          "output_type": "execute_result",
          "data": {
            "text/plain": [
              "5"
            ]
          },
          "metadata": {},
          "execution_count": 3
        }
      ]
    },
    {
      "cell_type": "code",
      "source": [
        "#14.Write a code to find the index of the element \"cat\" in the tuple ('dog', 'cat', 'rabbit').\n",
        "element_index = ('dog', 'cat', 'rabbit')\n",
        "element_index.index(\"cat\")"
      ],
      "metadata": {
        "colab": {
          "base_uri": "https://localhost:8080/"
        },
        "id": "zmHzYnwSQFjI",
        "outputId": "25287b84-b86c-4c33-c49a-fb1424506589"
      },
      "execution_count": 7,
      "outputs": [
        {
          "output_type": "execute_result",
          "data": {
            "text/plain": [
              "1"
            ]
          },
          "metadata": {},
          "execution_count": 7
        }
      ]
    },
    {
      "cell_type": "code",
      "source": [
        "#15.Write a code to create a tuple containing three different fruits and check if \"kiwi\" is in it.\n",
        "fruits = (\"apple\",\"mango\",\"kiwi\")\n",
        "if \"kiwi\" in fruits:\n",
        "  print(\"kiwi in fruits\")\n",
        "else:\n",
        "  print(\"kiwi not in fruits\")"
      ],
      "metadata": {
        "colab": {
          "base_uri": "https://localhost:8080/"
        },
        "id": "1pRgbxAEQXqr",
        "outputId": "1f8b3e0f-3b95-4010-863b-fcc4c9702840"
      },
      "execution_count": 8,
      "outputs": [
        {
          "output_type": "stream",
          "name": "stdout",
          "text": [
            "kiwi in fruits\n"
          ]
        }
      ]
    },
    {
      "cell_type": "code",
      "source": [
        "#16. Write a code to create a set with the elements 'a', 'b', 'c' and print it.\n",
        "set_name = {'a', 'b', 'c'}\n",
        "print(set_name)"
      ],
      "metadata": {
        "colab": {
          "base_uri": "https://localhost:8080/"
        },
        "id": "LlHDnfT3RqhZ",
        "outputId": "675c9705-10e3-4e9f-f2c5-809939c1bf60"
      },
      "execution_count": 9,
      "outputs": [
        {
          "output_type": "stream",
          "name": "stdout",
          "text": [
            "{'a', 'c', 'b'}\n"
          ]
        }
      ]
    },
    {
      "cell_type": "code",
      "source": [
        "#17. Write a code to clear all elements from the set {1, 2, 3, 4, 5}.\n",
        "set_clear = {1, 2, 3, 4, 5}\n",
        "set_clear.clear()\n",
        "print(set_clear)"
      ],
      "metadata": {
        "colab": {
          "base_uri": "https://localhost:8080/"
        },
        "id": "kyyb_xL3R2y8",
        "outputId": "a8a0e3c5-9fc6-4249-a62d-7110b40adbfe"
      },
      "execution_count": 28,
      "outputs": [
        {
          "output_type": "stream",
          "name": "stdout",
          "text": [
            "set()\n"
          ]
        }
      ]
    },
    {
      "cell_type": "code",
      "source": [
        "#18.Write a code to remove the element 4 from the set {1, 2, 3, 4}.\n",
        "set_remove = {1, 2, 3, 4}\n",
        "set_remove.remove(4)\n",
        "print(set_remove)"
      ],
      "metadata": {
        "colab": {
          "base_uri": "https://localhost:8080/"
        },
        "id": "jWxOxjGfSJ1j",
        "outputId": "82df5f34-d763-488a-b506-c79d781ee156"
      },
      "execution_count": 29,
      "outputs": [
        {
          "output_type": "stream",
          "name": "stdout",
          "text": [
            "{1, 2, 3}\n"
          ]
        }
      ]
    },
    {
      "cell_type": "code",
      "source": [
        "#19. Write a code to find the union of two sets {1, 2, 3} and {3, 4, 5}.\n",
        "set1 = {1, 2, 3}\n",
        "set2 = {3, 4, 5}\n",
        "set1 | set2\n"
      ],
      "metadata": {
        "colab": {
          "base_uri": "https://localhost:8080/"
        },
        "id": "rRXMSuAGSsOJ",
        "outputId": "b03117a9-7c8e-41b0-d8c9-99c3aa9a1e87"
      },
      "execution_count": 15,
      "outputs": [
        {
          "output_type": "execute_result",
          "data": {
            "text/plain": [
              "{1, 2, 3, 4, 5}"
            ]
          },
          "metadata": {},
          "execution_count": 15
        }
      ]
    },
    {
      "cell_type": "code",
      "source": [
        "#20. Write a code to find the intersection of two sets {1, 2, 3} and {2, 3, 4}.\n",
        "set1 = {1, 2, 3}\n",
        "set2 = {2, 3, 4}\n",
        "set1 & set2"
      ],
      "metadata": {
        "colab": {
          "base_uri": "https://localhost:8080/"
        },
        "id": "ga_gy_UITBNa",
        "outputId": "6c75d832-65b2-47da-e355-930ea8d9ec14"
      },
      "execution_count": 16,
      "outputs": [
        {
          "output_type": "execute_result",
          "data": {
            "text/plain": [
              "{2, 3}"
            ]
          },
          "metadata": {},
          "execution_count": 16
        }
      ]
    },
    {
      "cell_type": "code",
      "source": [
        "#21. Write a code to create a dictionary with the keys \"name\", \"age\", and \"city\", and print it.\n",
        "dic = {\"name\":\"Nayan\",\"age\":22,\"city\":\"mumbai\"}\n",
        "print(dic)"
      ],
      "metadata": {
        "colab": {
          "base_uri": "https://localhost:8080/"
        },
        "id": "cdqd9RUGTZ6e",
        "outputId": "9d73ea63-413b-4e76-ff0a-14349a49f5a3"
      },
      "execution_count": 17,
      "outputs": [
        {
          "output_type": "stream",
          "name": "stdout",
          "text": [
            "{'name': 'Nayan', 'age': 22, 'city': 'mumbai'}\n"
          ]
        }
      ]
    },
    {
      "cell_type": "code",
      "source": [
        "#22.Write a code to add a new key-value pair \"country\": \"USA\" to the dictionary {'name': 'John', 'age': 25}.\n",
        "dic = {\"name\":\"Nayan\",\"age\":22}\n",
        "dic[\"country\"] = \"USA\"\n",
        "print(dic)\n"
      ],
      "metadata": {
        "colab": {
          "base_uri": "https://localhost:8080/"
        },
        "id": "xEldkUp7TsbM",
        "outputId": "625468ab-f8d6-4f78-f2f4-716f773641df"
      },
      "execution_count": 27,
      "outputs": [
        {
          "output_type": "stream",
          "name": "stdout",
          "text": [
            "{'name': 'Nayan', 'age': 22, 'country': 'USA'}\n"
          ]
        }
      ]
    },
    {
      "cell_type": "code",
      "source": [
        "#23. Write a code to access the value associated with the key \"name\" in the dictionary {'name': 'Alice', 'age': 30}.\n",
        "dic = {'name': 'Alice', 'age': 30}\n",
        "print(dic[\"name\"])"
      ],
      "metadata": {
        "colab": {
          "base_uri": "https://localhost:8080/"
        },
        "id": "f_0upG5WUEaE",
        "outputId": "ca29d36c-6d03-42ad-fbce-7315daa91d63"
      },
      "execution_count": 26,
      "outputs": [
        {
          "output_type": "stream",
          "name": "stdout",
          "text": [
            "Alice\n"
          ]
        }
      ]
    },
    {
      "cell_type": "code",
      "source": [
        "#24.Write a code to remove the key \"age\" from the dictionary {'name': 'Bob', 'age': 22, 'city': 'New York'}\n",
        "dic_remove = {'name': 'Bob', 'age': 22, 'city': 'New York'}\n",
        "del dic_remove[\"age\"]\n",
        "print(dic_remove)"
      ],
      "metadata": {
        "colab": {
          "base_uri": "https://localhost:8080/"
        },
        "id": "fTLjppujVC3j",
        "outputId": "c531c6c6-c22d-4e2a-8ea5-fd8f4a62d7c5"
      },
      "execution_count": 39,
      "outputs": [
        {
          "output_type": "stream",
          "name": "stdout",
          "text": [
            "{'name': 'Bob', 'city': 'New York'}\n"
          ]
        }
      ]
    },
    {
      "cell_type": "code",
      "source": [
        "#25. Write a code to check if the key \"city\" exists in the dictionary {'name': 'Alice', 'city': 'Paris'}.\n",
        "dic_name = {'name': 'Alice', 'city': 'Paris'}\n",
        "if \"city\" in dic_name:\n",
        "  print(\"city present in dictionary\")\n",
        "else:\n",
        "  print(\"city not in dictionary\")"
      ],
      "metadata": {
        "colab": {
          "base_uri": "https://localhost:8080/"
        },
        "id": "isR39g8uV0HK",
        "outputId": "a0507dd9-823a-4253-fd68-f8593ee31ffe"
      },
      "execution_count": 40,
      "outputs": [
        {
          "output_type": "stream",
          "name": "stdout",
          "text": [
            "city present in dictionary\n"
          ]
        }
      ]
    },
    {
      "cell_type": "code",
      "source": [
        "#26.Write a code to create a list, a tuple, and a dictionary, and print them all.\n",
        "lis = [1,2,3,4]\n",
        "print(lis)\n",
        "print(type(lis))\n",
        "tup = (1,2,3,4)\n",
        "print(tup)\n",
        "print(type(tup))\n",
        "dic = {\"name\":\"nayan\"}\n",
        "print(dic)\n",
        "print(type(dic))"
      ],
      "metadata": {
        "colab": {
          "base_uri": "https://localhost:8080/"
        },
        "id": "Oapn7-p6Xxzu",
        "outputId": "6a2e4806-e55c-473c-e144-4f479f8908fa"
      },
      "execution_count": 41,
      "outputs": [
        {
          "output_type": "stream",
          "name": "stdout",
          "text": [
            "[1, 2, 3, 4]\n",
            "<class 'list'>\n",
            "(1, 2, 3, 4)\n",
            "<class 'tuple'>\n",
            "{'name': 'nayan'}\n",
            "<class 'dict'>\n"
          ]
        }
      ]
    },
    {
      "cell_type": "code",
      "source": [
        "#27.Write a code to create a list of 5 random numbers between 1 and 100, sort it in ascending order, and print the result.(replaced)\n",
        "import random\n",
        "list_name = random.sample(range(1, 101), 5)\n",
        "list_name.sort()\n",
        "print(list_name)"
      ],
      "metadata": {
        "colab": {
          "base_uri": "https://localhost:8080/"
        },
        "id": "2ZUKSYEBcGji",
        "outputId": "987c1f6f-4eea-4fab-f640-fd45642226c8"
      },
      "execution_count": 44,
      "outputs": [
        {
          "output_type": "stream",
          "name": "stdout",
          "text": [
            "[27, 29, 72, 84, 88]\n"
          ]
        }
      ]
    },
    {
      "cell_type": "code",
      "source": [
        "#28.Write a code to create a list with strings and print the element at the third index.\n",
        "list_name = [\"nayan\",\"yash\",\"jack\",\"alex\"]\n",
        "print(list_name[3])\n"
      ],
      "metadata": {
        "colab": {
          "base_uri": "https://localhost:8080/"
        },
        "id": "rRMX6hEJgXm9",
        "outputId": "e2af38ca-ecca-4771-f5f0-c510ecc48253"
      },
      "execution_count": 47,
      "outputs": [
        {
          "output_type": "stream",
          "name": "stdout",
          "text": [
            "alex\n"
          ]
        }
      ]
    },
    {
      "cell_type": "code",
      "source": [
        "#29.Write a code to combine two dictionaries into one and print the result.\n",
        "dict1 = {\"name\":\"nayan\",\"age\":22}\n",
        "dict2 = {\"surname\":\"chaudhari\",\"city\":\"mumbai\"}\n",
        "dict1.update(dict2)\n",
        "print(dict1)"
      ],
      "metadata": {
        "colab": {
          "base_uri": "https://localhost:8080/"
        },
        "id": "gCypjuYfmLS2",
        "outputId": "fc4905e6-88b1-48dc-e7a3-3842bfb783ae"
      },
      "execution_count": 49,
      "outputs": [
        {
          "output_type": "stream",
          "name": "stdout",
          "text": [
            "{'name': 'nayan', 'age': 22, 'surname': 'chaudhari', 'city': 'mumbai'}\n"
          ]
        }
      ]
    },
    {
      "cell_type": "code",
      "source": [
        "#30.Write a code to convert a list of strings into a set.\n",
        "lis = [\"nayan\",\"yash\",\"alex\",\"jack\"]\n",
        "convert = set(lis)\n",
        "print(convert)"
      ],
      "metadata": {
        "colab": {
          "base_uri": "https://localhost:8080/"
        },
        "id": "MPQnbQYHoHAM",
        "outputId": "b0058093-f187-41b3-859c-0509b169dceb"
      },
      "execution_count": 52,
      "outputs": [
        {
          "output_type": "stream",
          "name": "stdout",
          "text": [
            "{'alex', 'jack', 'nayan', 'yash'}\n"
          ]
        }
      ]
    }
  ]
}